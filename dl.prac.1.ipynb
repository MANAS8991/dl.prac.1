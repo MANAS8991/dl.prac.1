{
 "cells": [
  {
   "cell_type": "code",
   "execution_count": 1,
   "id": "94d616e6",
   "metadata": {},
   "outputs": [],
   "source": [
    "import numpy as np\n",
    "from tensorflow.keras.models import Sequential\n",
    "from tensorflow.keras.layers import Dense\n"
   ]
  },
  {
   "cell_type": "code",
   "execution_count": 2,
   "id": "28975d0e",
   "metadata": {},
   "outputs": [],
   "source": [
    "sequence = [1, 3, 5, 7, 9, 11, 13, 15, 17, 19, 21, 23, 25]  # Example sequence of odd numbers\n",
    "X = sequence[:-1]  # Input sequence (excluding the last digit)\n",
    "y = sequence[1:]   # Target sequence (next digit in the sequence)\n"
   ]
  },
  {
   "cell_type": "code",
   "execution_count": 3,
   "id": "43ad2948",
   "metadata": {},
   "outputs": [],
   "source": [
    "X = np.array(X).reshape(-1, 1)  # Reshape X to a 2D array\n",
    "y = np.array(y).reshape(-1, 1)  # Reshape y to a 2D array\n"
   ]
  },
  {
   "cell_type": "code",
   "execution_count": 4,
   "id": "a329fc6e",
   "metadata": {},
   "outputs": [],
   "source": [
    "model = Sequential()\n",
    "model.add(Dense(10, input_shape=(1,), activation='relu'))  # First hidden layer with 10 neurons\n",
    "model.add(Dense(1, activation='linear'))  # Output layer with 1 neuron\n"
   ]
  },
  {
   "cell_type": "code",
   "execution_count": 5,
   "id": "d312c3fe",
   "metadata": {},
   "outputs": [],
   "source": [
    "model.compile(loss='mean_squared_error', optimizer='adam')\n"
   ]
  },
  {
   "cell_type": "code",
   "execution_count": 6,
   "id": "75a09fa9",
   "metadata": {},
   "outputs": [
    {
     "data": {
      "text/plain": [
       "<keras.callbacks.History at 0x28bf0fb2ca0>"
      ]
     },
     "execution_count": 6,
     "metadata": {},
     "output_type": "execute_result"
    }
   ],
   "source": [
    "model.fit(X, y, epochs=1000, verbose=0)\n"
   ]
  },
  {
   "cell_type": "code",
   "execution_count": 7,
   "id": "813f9bc6",
   "metadata": {},
   "outputs": [
    {
     "name": "stdout",
     "output_type": "stream",
     "text": [
      "1/1 [==============================] - 0s 212ms/step\n",
      "Predicted Next Digit: 27\n"
     ]
    }
   ],
   "source": [
    "next_digit = model.predict([[sequence[-1]]])\n",
    "print(\"Predicted Next Digit:\", int(next_digit[0][0]))\n"
   ]
  },
  {
   "cell_type": "code",
   "execution_count": null,
   "id": "d6e17a19",
   "metadata": {},
   "outputs": [],
   "source": []
  }
 ],
 "metadata": {
  "kernelspec": {
   "display_name": "Python 3 (ipykernel)",
   "language": "python",
   "name": "python3"
  },
  "language_info": {
   "codemirror_mode": {
    "name": "ipython",
    "version": 3
   },
   "file_extension": ".py",
   "mimetype": "text/x-python",
   "name": "python",
   "nbconvert_exporter": "python",
   "pygments_lexer": "ipython3",
   "version": "3.9.12"
  }
 },
 "nbformat": 4,
 "nbformat_minor": 5
}
